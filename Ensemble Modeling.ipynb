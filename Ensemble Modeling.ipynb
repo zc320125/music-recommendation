{
 "cells": [
  {
   "cell_type": "code",
   "execution_count": 21,
   "metadata": {},
   "outputs": [],
   "source": [
    "import pandas as pd\n",
    "import numpy as np"
   ]
  },
  {
   "cell_type": "code",
   "execution_count": 22,
   "metadata": {},
   "outputs": [],
   "source": [
    "def read_training():\n",
    "    training_item = {}\n",
    "    with open('trainItem2.txt', 'r') as f:\n",
    "        lines = f.readlines()\n",
    "        count = 0\n",
    "        while(count < len(lines)):\n",
    "            ID = []\n",
    "            first_line = lines[count]\n",
    "            userID, ite = lines[count].split('|')\n",
    "            ite = int(ite)\n",
    "            for i in range(ite):\n",
    "                    ID.append(lines[count+i+1].split())\n",
    "            count += ite+1\n",
    "            training_item[userID] = dict(ID)\n",
    "    #print(training_item['199810'])\n",
    "    return training_item"
   ]
  },
  {
   "cell_type": "code",
   "execution_count": 23,
   "metadata": {},
   "outputs": [],
   "source": [
    "def read_testing():\n",
    "    testing_item = {}\n",
    "    with open('testItem2.txt', 'r') as g:\n",
    "        lines = g.readlines()\n",
    "        count = 0\n",
    "        while(count < len(lines)):\n",
    "            ID = []\n",
    "            first_line = lines[count]\n",
    "            userID, ite = lines[count].split('|')\n",
    "            ite = int(ite)\n",
    "            for i in range(ite):\n",
    "                    ID.append(lines[count+i+1].strip('\\n'))\n",
    "            #lists = [0 for n in range(len(ID))]\n",
    "            #testing_item[userID] = dict(zip(ID,lists))\n",
    "            testing_item[userID] = ID\n",
    "            count += ite+1\n",
    "    #print(testing_item['199810'])\n",
    "    return testing_item"
   ]
  },
  {
   "cell_type": "code",
   "execution_count": 24,
   "metadata": {},
   "outputs": [],
   "source": [
    "def read_track():\n",
    "    track_data = {}\n",
    "    with open('trackData2.txt', 'r') as h:\n",
    "        lines = h.readlines()\n",
    "        count = 0\n",
    "        while(count < len(lines)):\n",
    "            ID = []\n",
    "            items= []\n",
    "            items = lines[count].strip('\\n').split('|')\n",
    "            track_data[items.pop(0)] = items\n",
    "            count += 1\n",
    "    #print(track_data['1'])\n",
    "    return track_data"
   ]
  },
  {
   "cell_type": "code",
   "execution_count": 25,
   "metadata": {},
   "outputs": [],
   "source": [
    "def score():\n",
    "    for user in testing_item:\n",
    "        scores = [0 for n in range(6)]\n",
    "        testing_item[user] = dict(zip(testing_item[user], scores))\n",
    "        for trackID in testing_item[user]:\n",
    "            for each in track_data[trackID]:\n",
    "                if(each in training_item[user]):\n",
    "                    testing_item[user][trackID] += int(training_item[user][each])\n",
    "        #print(testing_item[user])"
   ]
  },
  {
   "cell_type": "code",
   "execution_count": 36,
   "metadata": {},
   "outputs": [],
   "source": [
    "csvlist=['prediction.csv','mf_sum.csv','pre_cvgbt2.csv','pre_dt2.csv','pre_gbt2.csv','pre_lr2.csv','pre_rf2.csv']"
   ]
  },
  {
   "cell_type": "code",
   "execution_count": 37,
   "metadata": {},
   "outputs": [],
   "source": [
    "P = [0.85269,0.78474,0.87356,0.66551,0.86500,0.79054,0.85755]\n",
    "stx = []\n",
    "for i in range(7):\n",
    "    stx.append(120000*(2*P[i]-1))\n",
    "sTx = np.array([stx]).T\n",
    "s = []\n",
    "for a in range(120000):\n",
    "    s.append([])"
   ]
  },
  {
   "cell_type": "code",
   "execution_count": 33,
   "metadata": {},
   "outputs": [],
   "source": [
    "count=0\n",
    "for i in csvlist:\n",
    "    file=pd.read_csv(i)\n",
    "    l=file['Predictor'].tolist()\n",
    "    for j in range(len(l)):\n",
    "        s[j].append(l[j])\n",
    "    count=count+1\n",
    "S=np.array(s)"
   ]
  },
  {
   "cell_type": "code",
   "execution_count": 29,
   "metadata": {},
   "outputs": [],
   "source": [
    "for i in range(len(S)):\n",
    "    for j in range(7):\n",
    "        S[i][j] = 2*S[i][j]-1"
   ]
  },
  {
   "cell_type": "code",
   "execution_count": 30,
   "metadata": {},
   "outputs": [
    {
     "data": {
      "text/plain": [
       "array([[-1, -1, -1, ...,  1, -1, -1],\n",
       "       [ 1, -1, -1, ..., -1, -1, -1],\n",
       "       [-1, -1,  1, ..., -1, -1,  1],\n",
       "       ...,\n",
       "       [ 1,  1,  1, ...,  1,  1,  1],\n",
       "       [-1, -1, -1, ..., -1, -1, -1],\n",
       "       [ 1,  1,  1, ...,  1,  1,  1]])"
      ]
     },
     "execution_count": 30,
     "metadata": {},
     "output_type": "execute_result"
    }
   ],
   "source": [
    "S"
   ]
  },
  {
   "cell_type": "code",
   "execution_count": 14,
   "metadata": {},
   "outputs": [],
   "source": [
    "tra = np.linalg.inv(S.transpose().dot(S))"
   ]
  },
  {
   "cell_type": "code",
   "execution_count": 15,
   "metadata": {},
   "outputs": [],
   "source": [
    "S_temp = np.dot(S,tra)"
   ]
  },
  {
   "cell_type": "code",
   "execution_count": 16,
   "metadata": {},
   "outputs": [],
   "source": [
    "S_ensemble = np.dot(S_temp,sTx)"
   ]
  },
  {
   "cell_type": "code",
   "execution_count": 17,
   "metadata": {},
   "outputs": [
    {
     "name": "stdout",
     "output_type": "stream",
     "text": [
      "[[-2.26709305e-05 -1.00716260e-05 -1.01381455e-04 ...  1.69591678e-04\n",
      "  -1.49108827e-05 -5.91589510e-05]\n",
      " [ 3.34413901e-05 -5.98638139e-06 -1.16339166e-05 ... -9.64657124e-06\n",
      "  -8.98620310e-06 -9.55568999e-06]\n",
      " [-1.70011783e-05 -8.37128520e-06  6.18858255e-05 ... -7.57242361e-05\n",
      "  -1.14417326e-05  3.98109515e-05]\n",
      " ...\n",
      " [ 3.45235235e-06  2.70299354e-06  6.97443587e-07 ...  9.63210220e-07\n",
      "   1.05550463e-06  9.21974919e-08]\n",
      " [-3.45235235e-06 -2.70299354e-06 -6.97443587e-07 ... -9.63210220e-07\n",
      "  -1.05550463e-06 -9.21974919e-08]\n",
      " [ 3.45235235e-06  2.70299354e-06  6.97443587e-07 ...  9.63210220e-07\n",
      "   1.05550463e-06  9.21974919e-08]]\n"
     ]
    }
   ],
   "source": [
    "print(S_temp)"
   ]
  },
  {
   "cell_type": "code",
   "execution_count": 18,
   "metadata": {},
   "outputs": [],
   "source": [
    "for counter in range(0,len(S_ensemble),6):\n",
    "    location=[0,0,0]\n",
    "    for index in range(0,6):\n",
    "        if S_ensemble[counter+index]>S_ensemble[location[0]]:\n",
    "            location[2]=location[1]\n",
    "            location[1]=location[0]\n",
    "            location[0]=counter+index\n",
    "        elif S_ensemble[counter+index]>S_ensemble[location[1]]:\n",
    "            location[2]=location[1]\n",
    "            location[1]=counter+index\n",
    "        elif S_ensemble[counter+index]>S_ensemble[location[2]]:\n",
    "            location[2]=counter+index\n",
    "        else:\n",
    "            continue\n",
    "    for i in range(counter,counter+6):\n",
    "        if i in location:\n",
    "            S_ensemble[i]=1\n",
    "        else:\n",
    "            S_ensemble[i]=0"
   ]
  },
  {
   "cell_type": "code",
   "execution_count": 19,
   "metadata": {},
   "outputs": [],
   "source": [
    "final = S_ensemble.transpose()[0].tolist()"
   ]
  },
  {
   "cell_type": "code",
   "execution_count": 20,
   "metadata": {},
   "outputs": [
    {
     "name": "stdout",
     "output_type": "stream",
     "text": [
      "Succeed!!!\n"
     ]
    }
   ],
   "source": [
    "training_item = read_training()\n",
    "testing_item = read_testing()\n",
    "track_data = read_track()\n",
    "score()\n",
    "a = []\n",
    "for every_user in testing_item:\n",
    "    for every_trackID in testing_item[every_user]:\n",
    "        a.append(every_user+'_'+every_trackID)\n",
    "dataframe = pd.DataFrame({'TrackID':a, 'Predictor':final})\n",
    "dataframe.to_csv(\"prediction_last.csv\",index=False)\n",
    "print(\"Succeed!!!\")"
   ]
  },
  {
   "cell_type": "code",
   "execution_count": null,
   "metadata": {},
   "outputs": [],
   "source": []
  }
 ],
 "metadata": {
  "kernelspec": {
   "display_name": "Python 3",
   "language": "python",
   "name": "python3"
  },
  "language_info": {
   "codemirror_mode": {
    "name": "ipython",
    "version": 3
   },
   "file_extension": ".py",
   "mimetype": "text/x-python",
   "name": "python",
   "nbconvert_exporter": "python",
   "pygments_lexer": "ipython3",
   "version": "3.7.5"
  }
 },
 "nbformat": 4,
 "nbformat_minor": 2
}
