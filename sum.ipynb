{
 "cells": [
  {
   "cell_type": "code",
   "execution_count": 5,
   "metadata": {},
   "outputs": [],
   "source": [
    "def read_training():\n",
    "    training_item = {}\n",
    "    with open('trainItem2.txt', 'r') as f:\n",
    "        lines = f.readlines()\n",
    "        count = 0\n",
    "        while(count < len(lines)):\n",
    "            ID = []\n",
    "            first_line = lines[count]\n",
    "            userID, ite = lines[count].split('|')\n",
    "            ite = int(ite)\n",
    "            for i in range(ite):\n",
    "                    ID.append(lines[count+i+1].split())\n",
    "            count += ite+1\n",
    "            training_item[userID] = dict(ID)\n",
    "    #print(training_item['199810'])\n",
    "    return training_item"
   ]
  },
  {
   "cell_type": "code",
   "execution_count": 2,
   "metadata": {},
   "outputs": [],
   "source": [
    "def read_testing():\n",
    "    testing_item = {}\n",
    "    with open('testItem2.txt', 'r') as g:\n",
    "        lines = g.readlines()\n",
    "        count = 0\n",
    "        while(count < len(lines)):\n",
    "            ID = []\n",
    "            first_line = lines[count]\n",
    "            userID, ite = lines[count].split('|')\n",
    "            ite = int(ite)\n",
    "            for i in range(ite):\n",
    "                    ID.append(lines[count+i+1].strip('\\n'))\n",
    "            #lists = [0 for n in range(len(ID))]\n",
    "            #testing_item[userID] = dict(zip(ID,lists))\n",
    "            testing_item[userID] = ID\n",
    "            count += ite+1\n",
    "    #print(testing_item['199810'])\n",
    "    return testing_item"
   ]
  },
  {
   "cell_type": "code",
   "execution_count": 3,
   "metadata": {},
   "outputs": [],
   "source": [
    "def read_track():\n",
    "    track_data = {}\n",
    "    with open('trackData2.txt', 'r') as h:\n",
    "        lines = h.readlines()\n",
    "        count = 0\n",
    "        while(count < len(lines)):\n",
    "            ID = []\n",
    "            items= []\n",
    "            items = lines[count].strip('\\n').split('|')\n",
    "            track_data[items.pop(0)] = items\n",
    "            count += 1\n",
    "    #print(track_data['1'])\n",
    "    return track_data"
   ]
  },
  {
   "cell_type": "code",
   "execution_count": 4,
   "metadata": {},
   "outputs": [],
   "source": [
    "def score():\n",
    "    for user in testing_item:\n",
    "        scores = [0 for n in range(6)]\n",
    "        testing_item[user] = dict(zip(testing_item[user], scores))\n",
    "        for trackID in testing_item[user]:\n",
    "            for each in track_data[trackID]:\n",
    "                if(each in training_item[user]):\n",
    "                    testing_item[user][trackID] += int(training_item[user][each])\n",
    "        #print(testing_item[user])"
   ]
  },
  {
   "cell_type": "code",
   "execution_count": 9,
   "metadata": {},
   "outputs": [
    {
     "name": "stdout",
     "output_type": "stream",
     "text": [
      "Succeed!!!\n"
     ]
    }
   ],
   "source": [
    "import pandas as pd    \n",
    "\n",
    "training_item = read_training()\n",
    "testing_item = read_testing()\n",
    "track_data = read_track()\n",
    "score()\n",
    "a = []\n",
    "b = []\n",
    "for every_user in testing_item:\n",
    "    for every_trackID in testing_item[every_user]:\n",
    "        a.append(every_user+'_'+every_trackID)\n",
    "        b.append(testing_item[every_user][every_trackID])\n",
    "for counter in range(0,len(b),6):\n",
    "    location=[0,0,0]\n",
    "    for index in range(0,6):\n",
    "        if b[counter+index]>b[location[0]]:\n",
    "            location[2]=location[1]\n",
    "            location[1]=location[0]\n",
    "            location[0]=counter+index\n",
    "        elif b[counter+index]>b[location[1]]:\n",
    "            location[2]=location[1]\n",
    "            location[1]=counter+index\n",
    "        elif b[counter+index]>b[location[2]]:\n",
    "            location[2]=counter+index\n",
    "        else:\n",
    "            continue\n",
    "    for i in range(counter,counter+6):\n",
    "        if i in location:\n",
    "            b[i]=1\n",
    "        else:\n",
    "            b[i]=0\n",
    "dataframe = pd.DataFrame({'TrackID':a, 'Predictor':b})\n",
    "dataframe.to_csv(\"prediction.csv\",index=False)\n",
    "print(\"Succeed!!!\")"
   ]
  }
 ],
 "metadata": {
  "kernelspec": {
   "display_name": "Python 3",
   "language": "python",
   "name": "python3"
  },
  "language_info": {
   "codemirror_mode": {
    "name": "ipython",
    "version": 3
   },
   "file_extension": ".py",
   "mimetype": "text/x-python",
   "name": "python",
   "nbconvert_exporter": "python",
   "pygments_lexer": "ipython3",
   "version": "3.7.5"
  }
 },
 "nbformat": 4,
 "nbformat_minor": 2
}
